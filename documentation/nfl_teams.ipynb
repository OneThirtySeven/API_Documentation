{
 "cells": [
  {
   "cell_type": "markdown",
   "metadata": {},
   "source": [
    "[back](NFL.md)\n",
    "\n",
    "<h3 style=\"margin-bottom: 0px; font-weight: bold;\">Teams</h3>\n",
    "\n",
    "- Returns list of the 32 NFL teams.\n",
    "\n",
    "***\n",
    "GET: **https://nfl.onethirtyseven.io/teams**<br>\n",
    "\n",
    "- Requires API Key<br>\n",
    "    - To get your OneThirtySeven API Key follow the [instructions](GET_API_KEY.md):\n",
    "- No optional parameters\n",
    "***"
   ]
  },
  {
   "cell_type": "code",
   "execution_count": 25,
   "metadata": {},
   "outputs": [
    {
     "data": {
      "text/html": [
       "<div>\n",
       "<style scoped>\n",
       "    .dataframe tbody tr th:only-of-type {\n",
       "        vertical-align: middle;\n",
       "    }\n",
       "\n",
       "    .dataframe tbody tr th {\n",
       "        vertical-align: top;\n",
       "    }\n",
       "\n",
       "    .dataframe thead th {\n",
       "        text-align: right;\n",
       "    }\n",
       "</style>\n",
       "<table border=\"1\" class=\"dataframe\">\n",
       "  <thead>\n",
       "    <tr style=\"text-align: right;\">\n",
       "      <th></th>\n",
       "      <th>Short_Name</th>\n",
       "      <th>Conference</th>\n",
       "      <th>Division</th>\n",
       "      <th>City</th>\n",
       "      <th>Team_Name</th>\n",
       "    </tr>\n",
       "  </thead>\n",
       "  <tbody>\n",
       "    <tr>\n",
       "      <th>0</th>\n",
       "      <td>BUF</td>\n",
       "      <td>AFC</td>\n",
       "      <td>East</td>\n",
       "      <td>Buffalo</td>\n",
       "      <td>Bills</td>\n",
       "    </tr>\n",
       "    <tr>\n",
       "      <th>1</th>\n",
       "      <td>MIA</td>\n",
       "      <td>AFC</td>\n",
       "      <td>East</td>\n",
       "      <td>Miami</td>\n",
       "      <td>Dolphins</td>\n",
       "    </tr>\n",
       "    <tr>\n",
       "      <th>2</th>\n",
       "      <td>NYJ</td>\n",
       "      <td>AFC</td>\n",
       "      <td>East</td>\n",
       "      <td>New York</td>\n",
       "      <td>Jets</td>\n",
       "    </tr>\n",
       "    <tr>\n",
       "      <th>3</th>\n",
       "      <td>NE</td>\n",
       "      <td>AFC</td>\n",
       "      <td>East</td>\n",
       "      <td>New England</td>\n",
       "      <td>Patriots</td>\n",
       "    </tr>\n",
       "    <tr>\n",
       "      <th>4</th>\n",
       "      <td>CLE</td>\n",
       "      <td>AFC</td>\n",
       "      <td>North</td>\n",
       "      <td>Cleveland</td>\n",
       "      <td>Browns</td>\n",
       "    </tr>\n",
       "  </tbody>\n",
       "</table>\n",
       "</div>"
      ],
      "text/plain": [
       "  Short_Name Conference Division         City Team_Name\n",
       "0        BUF        AFC     East      Buffalo     Bills\n",
       "1        MIA        AFC     East        Miami  Dolphins\n",
       "2        NYJ        AFC     East     New York      Jets\n",
       "3         NE        AFC     East  New England  Patriots\n",
       "4        CLE        AFC    North    Cleveland    Browns"
      ]
     },
     "execution_count": 25,
     "metadata": {},
     "output_type": "execute_result"
    }
   ],
   "source": [
    "import requests\n",
    "import pandas as pd\n",
    "import json\n",
    "\n",
    "# Replace with your personal API_KEY\n",
    "API_KEY = '3dc348e87a2988b1b90f5137313d436f57e258bceb9b4e7f643a6fb8fa96b77e'\n",
    "\n",
    "# Make get request\n",
    "res = requests.get('https://nfl.onethirtyseven.io/teams', headers={'api_key': API_KEY})\n",
    "\n",
    "# Extract payload: Decode binary -> Convert the JSON str to dict() -> Convert dict to DataFrame\n",
    "Teams = pd.DataFrame.from_dict(json.loads(res.content.decode('utf-8')))\n",
    "\n",
    "# Display Results\n",
    "Teams.head(5)"
   ]
  },
  {
   "cell_type": "markdown",
   "metadata": {},
   "source": [
    "***\n",
    "\n",
    "#### Data Dictionary\n",
    "\n",
    "| Field | Type | Description |\n",
    "|-------|------|-------------|\n",
    "|Short_Name|str|Short name is effectively the team UID throughout the NFL endpoints|\n",
    "|Conference|str|Team Conference|\n",
    "|Division|str|Team Division|\n",
    "|City|str|Team City|\n",
    "|Team_Name|str|Team name|"
   ]
  }
 ],
 "metadata": {
  "kernelspec": {
   "display_name": "base",
   "language": "python",
   "name": "python3"
  },
  "language_info": {
   "codemirror_mode": {
    "name": "ipython",
    "version": 3
   },
   "file_extension": ".py",
   "mimetype": "text/x-python",
   "name": "python",
   "nbconvert_exporter": "python",
   "pygments_lexer": "ipython3",
   "version": "3.9.13"
  }
 },
 "nbformat": 4,
 "nbformat_minor": 2
}
