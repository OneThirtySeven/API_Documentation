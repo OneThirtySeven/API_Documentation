{
 "cells": [
  {
   "cell_type": "code",
   "execution_count": 6,
   "metadata": {},
   "outputs": [],
   "source": [
    "import requests\n",
    "import pandas as pd\n",
    "import json"
   ]
  },
  {
   "cell_type": "markdown",
   "metadata": {},
   "source": [
    "#### First set API_KEY \n",
    "To get your OneThirtySeven API Key follow the [instructions](GET_API_KEY.md): "
   ]
  },
  {
   "cell_type": "code",
   "execution_count": 7,
   "metadata": {},
   "outputs": [],
   "source": [
    "API_KEY = '3dc348e87a2988b1b90f5137313d436f57e258bceb9b4e7f643a6fb8fa96b77e'"
   ]
  },
  {
   "cell_type": "code",
   "execution_count": 14,
   "metadata": {},
   "outputs": [
    {
     "data": {
      "text/html": [
       "<div>\n",
       "<style scoped>\n",
       "    .dataframe tbody tr th:only-of-type {\n",
       "        vertical-align: middle;\n",
       "    }\n",
       "\n",
       "    .dataframe tbody tr th {\n",
       "        vertical-align: top;\n",
       "    }\n",
       "\n",
       "    .dataframe thead th {\n",
       "        text-align: right;\n",
       "    }\n",
       "</style>\n",
       "<table border=\"1\" class=\"dataframe\">\n",
       "  <thead>\n",
       "    <tr style=\"text-align: right;\">\n",
       "      <th></th>\n",
       "      <th>Game_Id</th>\n",
       "      <th>Season</th>\n",
       "      <th>Season_Type</th>\n",
       "      <th>Game_Date</th>\n",
       "      <th>Game_Time</th>\n",
       "      <th>Timezone</th>\n",
       "      <th>Home</th>\n",
       "      <th>Away</th>\n",
       "      <th>Status</th>\n",
       "    </tr>\n",
       "  </thead>\n",
       "  <tbody>\n",
       "    <tr>\n",
       "      <th>316</th>\n",
       "      <td>803096852</td>\n",
       "      <td>2023</td>\n",
       "      <td>Regular-Season</td>\n",
       "      <td>2024-01-07</td>\n",
       "      <td>18:00</td>\n",
       "      <td>UTC</td>\n",
       "      <td>NO</td>\n",
       "      <td>ATL</td>\n",
       "      <td>Final</td>\n",
       "    </tr>\n",
       "    <tr>\n",
       "      <th>317</th>\n",
       "      <td>803096854</td>\n",
       "      <td>2023</td>\n",
       "      <td>Regular-Season</td>\n",
       "      <td>2024-01-07</td>\n",
       "      <td>21:25</td>\n",
       "      <td>UTC</td>\n",
       "      <td>NYG</td>\n",
       "      <td>PHI</td>\n",
       "      <td>Final</td>\n",
       "    </tr>\n",
       "    <tr>\n",
       "      <th>318</th>\n",
       "      <td>803096856</td>\n",
       "      <td>2023</td>\n",
       "      <td>Regular-Season</td>\n",
       "      <td>2024-01-07</td>\n",
       "      <td>21:25</td>\n",
       "      <td>UTC</td>\n",
       "      <td>SF</td>\n",
       "      <td>LAR</td>\n",
       "      <td>Final</td>\n",
       "    </tr>\n",
       "    <tr>\n",
       "      <th>319</th>\n",
       "      <td>803096858</td>\n",
       "      <td>2023</td>\n",
       "      <td>Regular-Season</td>\n",
       "      <td>2024-01-07</td>\n",
       "      <td>18:00</td>\n",
       "      <td>UTC</td>\n",
       "      <td>TEN</td>\n",
       "      <td>JAX</td>\n",
       "      <td>Final</td>\n",
       "    </tr>\n",
       "    <tr>\n",
       "      <th>320</th>\n",
       "      <td>803096860</td>\n",
       "      <td>2023</td>\n",
       "      <td>Regular-Season</td>\n",
       "      <td>2024-01-07</td>\n",
       "      <td>21:25</td>\n",
       "      <td>UTC</td>\n",
       "      <td>WSH</td>\n",
       "      <td>DAL</td>\n",
       "      <td>Final</td>\n",
       "    </tr>\n",
       "  </tbody>\n",
       "</table>\n",
       "</div>"
      ],
      "text/plain": [
       "       Game_Id  Season     Season_Type   Game_Date Game_Time Timezone Home  \\\n",
       "316  803096852    2023  Regular-Season  2024-01-07     18:00      UTC   NO   \n",
       "317  803096854    2023  Regular-Season  2024-01-07     21:25      UTC  NYG   \n",
       "318  803096856    2023  Regular-Season  2024-01-07     21:25      UTC   SF   \n",
       "319  803096858    2023  Regular-Season  2024-01-07     18:00      UTC  TEN   \n",
       "320  803096860    2023  Regular-Season  2024-01-07     21:25      UTC  WSH   \n",
       "\n",
       "    Away Status  \n",
       "316  ATL  Final  \n",
       "317  PHI  Final  \n",
       "318  LAR  Final  \n",
       "319  JAX  Final  \n",
       "320  DAL  Final  "
      ]
     },
     "execution_count": 14,
     "metadata": {},
     "output_type": "execute_result"
    }
   ],
   "source": [
    "res = requests.get('https://nfl.onethirtyseven.io/schedule?Season=2023', headers={'api_key': API_KEY})\n",
    "Schedule = pd.DataFrame.from_dict(json.loads(res.content.decode('utf-8')))\n",
    "Schedule.tail(5)"
   ]
  }
 ],
 "metadata": {
  "kernelspec": {
   "display_name": "base",
   "language": "python",
   "name": "python3"
  },
  "language_info": {
   "codemirror_mode": {
    "name": "ipython",
    "version": 3
   },
   "file_extension": ".py",
   "mimetype": "text/x-python",
   "name": "python",
   "nbconvert_exporter": "python",
   "pygments_lexer": "ipython3",
   "version": "3.9.13"
  }
 },
 "nbformat": 4,
 "nbformat_minor": 2
}
